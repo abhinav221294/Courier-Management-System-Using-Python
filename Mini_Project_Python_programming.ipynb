{
 "cells": [
  {
   "cell_type": "markdown",
   "id": "330eaf13",
   "metadata": {},
   "source": [
    "# Q1. Create a Dictionary of lists to store the information of shipments given in the table"
   ]
  },
  {
   "cell_type": "code",
   "execution_count": 9,
   "id": "5cf3d4b1",
   "metadata": {},
   "outputs": [],
   "source": [
    "#Q1\n",
    "shipment_details = {101:{'Sender':1,'Receiver':3,'Start_date':'14-03-2020','Delivery_date':'25-03-2020','Sender_location':'Area1','Receiver_location':'Area 6','Delivery_status':'Delivered','Shipping_cost':198},\n",
    "                    102:{'Sender':4,'Receiver':1,'Start_date':'18-06-2020','Delivery_date':'09-07-2020','Sender_location':'Area 2','Receiver_location':'Area 4','Delivery_status':'Delivered','Shipping_cost':275},\n",
    "                    103:{'Sender':2,'Receiver':3,'Start_date':'01-12-2020','Delivery_date':'Null','Sender_location':'Area 5','Receiver_location':'Area1','Delivery_status':'In Transit','Shipping_cost':200},\n",
    "                    104:{'Sender':1,'Receiver':5,'Start_date':'23-06-2020','Delivery_date':'25-06-2020','Sender_location':'Area 1','Receiver_location':'Area 4','Delivery_status':'Delivered','Shipping_cost':314},\n",
    "                    105:{'Sender':3,'Receiver':4,'Start_date':'29-08-2020','Delivery_date':'10-09-2020','Sender_location':'Area 5','Receiver_location':'Area 3','Delivery_status':'Delivered','Shipping_cost':275},\n",
    "                    106:{'Sender':5,'Receiver':2,'Start_date':'28-06-2020','Delivery_date':'Null','Sender_location':'Area 3','Receiver_location':'Area1','Delivery_status':'In Transit','Shipping_cost':270}}"
   ]
  },
  {
   "cell_type": "code",
   "execution_count": 10,
   "id": "f6dc26cd",
   "metadata": {},
   "outputs": [
    {
     "data": {
      "text/plain": [
       "{101: {'Sender': 1,\n",
       "  'Receiver': 3,\n",
       "  'Start_date': '14-03-2020',\n",
       "  'Delivery_date': '25-03-2020',\n",
       "  'Sender_location': 'Area1',\n",
       "  'Receiver_location': 'Area 6',\n",
       "  'Delivery_status': 'Delivered',\n",
       "  'Shipping_cost': 198},\n",
       " 102: {'Sender': 4,\n",
       "  'Receiver': 1,\n",
       "  'Start_date': '18-06-2020',\n",
       "  'Delivery_date': '09-07-2020',\n",
       "  'Sender_location': 'Area 2',\n",
       "  'Receiver_location': 'Area 4',\n",
       "  'Delivery_status': 'Delivered',\n",
       "  'Shipping_cost': 275},\n",
       " 103: {'Sender': 2,\n",
       "  'Receiver': 3,\n",
       "  'Start_date': '01-12-2020',\n",
       "  'Delivery_date': 'Null',\n",
       "  'Sender_location': 'Area 5',\n",
       "  'Receiver_location': 'Area1',\n",
       "  'Delivery_status': 'In Transit',\n",
       "  'Shipping_cost': 200},\n",
       " 104: {'Sender': 1,\n",
       "  'Receiver': 5,\n",
       "  'Start_date': '23-06-2020',\n",
       "  'Delivery_date': '25-06-2020',\n",
       "  'Sender_location': 'Area 1',\n",
       "  'Receiver_location': 'Area 4',\n",
       "  'Delivery_status': 'Delivered',\n",
       "  'Shipping_cost': 314},\n",
       " 105: {'Sender': 3,\n",
       "  'Receiver': 4,\n",
       "  'Start_date': '29-08-2020',\n",
       "  'Delivery_date': '10-09-2020',\n",
       "  'Sender_location': 'Area 5',\n",
       "  'Receiver_location': 'Area 3',\n",
       "  'Delivery_status': 'Delivered',\n",
       "  'Shipping_cost': 275},\n",
       " 106: {'Sender': 5,\n",
       "  'Receiver': 2,\n",
       "  'Start_date': '28-06-2020',\n",
       "  'Delivery_date': 'Null',\n",
       "  'Sender_location': 'Area 3',\n",
       "  'Receiver_location': 'Area1',\n",
       "  'Delivery_status': 'In Transit',\n",
       "  'Shipping_cost': 270}}"
      ]
     },
     "execution_count": 10,
     "metadata": {},
     "output_type": "execute_result"
    }
   ],
   "source": [
    "shipment_details"
   ]
  },
  {
   "cell_type": "markdown",
   "id": "cbee478c",
   "metadata": {},
   "source": [
    "# Q2. Create a Dictionary of to store the information of clients given in the table."
   ]
  },
  {
   "cell_type": "code",
   "execution_count": 11,
   "id": "644ac30e",
   "metadata": {},
   "outputs": [],
   "source": [
    "#Q2\n",
    "client_details = {1:\"Philip\",2:\"Omega lll\",3:\"Ramya\",4:\"Romesh\",5:\"John\"}"
   ]
  },
  {
   "cell_type": "code",
   "execution_count": 12,
   "id": "449c41ac",
   "metadata": {},
   "outputs": [
    {
     "data": {
      "text/plain": [
       "{1: 'Philip', 2: 'Omega lll', 3: 'Ramya', 4: 'Romesh', 5: 'John'}"
      ]
     },
     "execution_count": 12,
     "metadata": {},
     "output_type": "execute_result"
    }
   ],
   "source": [
    "client_details"
   ]
  },
  {
   "cell_type": "markdown",
   "id": "40175bd4",
   "metadata": {},
   "source": [
    "# Q3. Write a code to replace client’s id with their respective name in shipment dictionary using a loop and dictionary comprehension"
   ]
  },
  {
   "cell_type": "raw",
   "id": "76248f68",
   "metadata": {},
   "source": [
    "#Q3 without dictionary comprehension\n",
    "for i in shipment_details.values():\n",
    "    for j in range(1,len(client_details)+1):\n",
    "        if i['Sender'] == j :\n",
    "                i['Sender'] = client_details[j]\n",
    "        elif  i['Receiver'] == j:        \n",
    "                i['Receiver'] = client_details[j]\n",
    "        else : \n",
    "            continue\n",
    "shipment_details    "
   ]
  },
  {
   "cell_type": "raw",
   "id": "e27cf0a7",
   "metadata": {},
   "source": [
    "for i in shipment_details:\n",
    "    for j in client_details:\n",
    "        if shipment_details[i]['Sender'] == j:\n",
    "            shipment_details[i]['Sender'] = client_details[j]\n",
    "        elif shipment_details[i]['Receiver'] == j:\n",
    "            shipment_details[i]['Receiver'] = client_details[j]\n",
    "        else :\n",
    "            continue\n",
    "shipment_details            "
   ]
  },
  {
   "cell_type": "code",
   "execution_count": 13,
   "id": "c3426a3b",
   "metadata": {},
   "outputs": [
    {
     "data": {
      "text/plain": [
       "{101: {'Sender': 'Philip',\n",
       "  'Receiver': 'Ramya',\n",
       "  'Start_date': '14-03-2020',\n",
       "  'Delivery_date': '25-03-2020',\n",
       "  'Sender_location': 'Area1',\n",
       "  'Receiver_location': 'Area 6',\n",
       "  'Delivery_status': 'Delivered',\n",
       "  'Shipping_cost': 198},\n",
       " 102: {'Sender': 'Romesh',\n",
       "  'Receiver': 'Philip',\n",
       "  'Start_date': '18-06-2020',\n",
       "  'Delivery_date': '09-07-2020',\n",
       "  'Sender_location': 'Area 2',\n",
       "  'Receiver_location': 'Area 4',\n",
       "  'Delivery_status': 'Delivered',\n",
       "  'Shipping_cost': 275},\n",
       " 103: {'Sender': 'Omega lll',\n",
       "  'Receiver': 'Ramya',\n",
       "  'Start_date': '01-12-2020',\n",
       "  'Delivery_date': 'Null',\n",
       "  'Sender_location': 'Area 5',\n",
       "  'Receiver_location': 'Area1',\n",
       "  'Delivery_status': 'In Transit',\n",
       "  'Shipping_cost': 200},\n",
       " 104: {'Sender': 'Philip',\n",
       "  'Receiver': 'John',\n",
       "  'Start_date': '23-06-2020',\n",
       "  'Delivery_date': '25-06-2020',\n",
       "  'Sender_location': 'Area 1',\n",
       "  'Receiver_location': 'Area 4',\n",
       "  'Delivery_status': 'Delivered',\n",
       "  'Shipping_cost': 314},\n",
       " 105: {'Sender': 'Ramya',\n",
       "  'Receiver': 'Romesh',\n",
       "  'Start_date': '29-08-2020',\n",
       "  'Delivery_date': '10-09-2020',\n",
       "  'Sender_location': 'Area 5',\n",
       "  'Receiver_location': 'Area 3',\n",
       "  'Delivery_status': 'Delivered',\n",
       "  'Shipping_cost': 275},\n",
       " 106: {'Sender': 'John',\n",
       "  'Receiver': 'Omega lll',\n",
       "  'Start_date': '28-06-2020',\n",
       "  'Delivery_date': 'Null',\n",
       "  'Sender_location': 'Area 3',\n",
       "  'Receiver_location': 'Area1',\n",
       "  'Delivery_status': 'In Transit',\n",
       "  'Shipping_cost': 270}}"
      ]
     },
     "execution_count": 13,
     "metadata": {},
     "output_type": "execute_result"
    }
   ],
   "source": [
    "#Q3 with for loop and dict comprehension\n",
    "for i,j in shipment_details.items():\n",
    "    shipment_details_new =  {k:client_details[l] if k in ('Sender','Receiver') else l for k,l in j.items()}\n",
    "    shipment_details[i] = shipment_details_new   \n",
    "    \n",
    "shipment_details    "
   ]
  },
  {
   "cell_type": "markdown",
   "id": "61fe7512",
   "metadata": {},
   "source": [
    "# Q4. Print all shipment details that are sent by Phillip"
   ]
  },
  {
   "cell_type": "code",
   "execution_count": 14,
   "id": "197a5d4b",
   "metadata": {},
   "outputs": [
    {
     "name": "stdout",
     "output_type": "stream",
     "text": [
      "{'Sender': 'Philip', 'Receiver': 'Ramya', 'Start_date': '14-03-2020', 'Delivery_date': '25-03-2020', 'Sender_location': 'Area1', 'Receiver_location': 'Area 6', 'Delivery_status': 'Delivered', 'Shipping_cost': 198}\n",
      "{'Sender': 'Philip', 'Receiver': 'John', 'Start_date': '23-06-2020', 'Delivery_date': '25-06-2020', 'Sender_location': 'Area 1', 'Receiver_location': 'Area 4', 'Delivery_status': 'Delivered', 'Shipping_cost': 314}\n"
     ]
    }
   ],
   "source": [
    "#Q4\n",
    "for i,j in shipment_details.items():\n",
    "     if j['Sender'] == 'Philip':\n",
    "            print(shipment_details[i])\n",
    "    "
   ]
  },
  {
   "cell_type": "markdown",
   "id": "51a1cad9",
   "metadata": {},
   "source": [
    "# Q5. Print all shipment details that are received by Ramya"
   ]
  },
  {
   "cell_type": "code",
   "execution_count": 15,
   "id": "cff813fe",
   "metadata": {
    "scrolled": true
   },
   "outputs": [
    {
     "name": "stdout",
     "output_type": "stream",
     "text": [
      "{'Sender': 'Philip', 'Receiver': 'Ramya', 'Start_date': '14-03-2020', 'Delivery_date': '25-03-2020', 'Sender_location': 'Area1', 'Receiver_location': 'Area 6', 'Delivery_status': 'Delivered', 'Shipping_cost': 198}\n",
      "{'Sender': 'Omega lll', 'Receiver': 'Ramya', 'Start_date': '01-12-2020', 'Delivery_date': 'Null', 'Sender_location': 'Area 5', 'Receiver_location': 'Area1', 'Delivery_status': 'In Transit', 'Shipping_cost': 200}\n"
     ]
    }
   ],
   "source": [
    "#Q5\n",
    "for i,j in shipment_details.items():\n",
    "     if j['Receiver'] == 'Ramya':\n",
    "            print(shipment_details[i])"
   ]
  },
  {
   "cell_type": "markdown",
   "id": "dd695e24",
   "metadata": {},
   "source": [
    "# Q6. Print all shipments which are in 'In-Transit' status"
   ]
  },
  {
   "cell_type": "code",
   "execution_count": 16,
   "id": "428044c8",
   "metadata": {},
   "outputs": [
    {
     "name": "stdout",
     "output_type": "stream",
     "text": [
      "{'Sender': 'Omega lll', 'Receiver': 'Ramya', 'Start_date': '01-12-2020', 'Delivery_date': 'Null', 'Sender_location': 'Area 5', 'Receiver_location': 'Area1', 'Delivery_status': 'In Transit', 'Shipping_cost': 200}\n",
      "{'Sender': 'John', 'Receiver': 'Omega lll', 'Start_date': '28-06-2020', 'Delivery_date': 'Null', 'Sender_location': 'Area 3', 'Receiver_location': 'Area1', 'Delivery_status': 'In Transit', 'Shipping_cost': 270}\n"
     ]
    }
   ],
   "source": [
    "#Q6\n",
    "for i,j in shipment_details.items():\n",
    "      if j['Delivery_status'] == 'In Transit':\n",
    "\n",
    "            print(shipment_details[i])"
   ]
  },
  {
   "cell_type": "markdown",
   "id": "ed334e3b",
   "metadata": {},
   "source": [
    "# Q7. Print all shipments which are delivered within 7 days of courier Start date"
   ]
  },
  {
   "cell_type": "code",
   "execution_count": 17,
   "id": "8bb426f0",
   "metadata": {},
   "outputs": [],
   "source": [
    "#Q7\n",
    "from datetime import datetime\n",
    "from datetime import date"
   ]
  },
  {
   "cell_type": "code",
   "execution_count": 18,
   "id": "283239e0",
   "metadata": {},
   "outputs": [
    {
     "name": "stdout",
     "output_type": "stream",
     "text": [
      "{'Sender': 'Philip', 'Receiver': 'John', 'Start_date': '23-06-2020', 'Delivery_date': '25-06-2020', 'Sender_location': 'Area 1', 'Receiver_location': 'Area 4', 'Delivery_status': 'Delivered', 'Shipping_cost': 314}\n"
     ]
    }
   ],
   "source": [
    "\n",
    "for i,j in shipment_details.items():\n",
    "    date_time_str1 = j['Start_date']\n",
    "    date_time_str2 = j['Delivery_date']\n",
    "    \n",
    "    date_time_obj1 = datetime.strptime(date_time_str1,'%d-%m-%Y')\n",
    "    \n",
    "    if date_time_str2 == 'Null':\n",
    "        pass\n",
    "    else :\n",
    "        date_time_obj2 = datetime.strptime(date_time_str2,'%d-%m-%Y')\n",
    "        date1 = date(date_time_obj1.year,date_time_obj1.month,date_time_obj1.day)\n",
    "        date2 = date(date_time_obj2.year,date_time_obj2.month,date_time_obj2.day)\n",
    "        numberofday = (date2 - date1).days\n",
    "            \n",
    "        if numberofday < 7:\n",
    "            print(j)\n",
    "      "
   ]
  },
  {
   "cell_type": "markdown",
   "id": "5c252eb2",
   "metadata": {},
   "source": [
    "# Q8. Print all shipments which are delivered after 15 days of courier start date or not yet been delivered."
   ]
  },
  {
   "cell_type": "code",
   "execution_count": 19,
   "id": "321b49d2",
   "metadata": {},
   "outputs": [
    {
     "name": "stdout",
     "output_type": "stream",
     "text": [
      "{'Sender': 'Romesh', 'Receiver': 'Philip', 'Start_date': '18-06-2020', 'Delivery_date': '09-07-2020', 'Sender_location': 'Area 2', 'Receiver_location': 'Area 4', 'Delivery_status': 'Delivered', 'Shipping_cost': 275}\n",
      "{'Sender': 'Omega lll', 'Receiver': 'Ramya', 'Start_date': '01-12-2020', 'Delivery_date': 'Null', 'Sender_location': 'Area 5', 'Receiver_location': 'Area1', 'Delivery_status': 'In Transit', 'Shipping_cost': 200}\n",
      "{'Sender': 'John', 'Receiver': 'Omega lll', 'Start_date': '28-06-2020', 'Delivery_date': 'Null', 'Sender_location': 'Area 3', 'Receiver_location': 'Area1', 'Delivery_status': 'In Transit', 'Shipping_cost': 270}\n"
     ]
    }
   ],
   "source": [
    "#Q8\n",
    "for i,j in shipment_details.items():\n",
    "    date_time_str1 = j['Start_date']\n",
    "    date_time_str2 = j['Delivery_date']\n",
    "    \n",
    "    date_time_obj1 = datetime.strptime(date_time_str1,'%d-%m-%Y')\n",
    "    \n",
    "    if date_time_str2 == 'Null':\n",
    "        date_time_obj2 = datetime.strptime(date_time_str2,'Null')\n",
    "    else :\n",
    "        date_time_obj2 = datetime.strptime(date_time_str2,'%d-%m-%Y')\n",
    "    date1 = date(date_time_obj1.year,date_time_obj1.month,date_time_obj1.day)\n",
    "    date2 = date(date_time_obj2.year,date_time_obj2.month,date_time_obj2.day)\n",
    "    if date2 > date1:\n",
    "         numberofday = (date2 - date1).days\n",
    "    else :\n",
    "        numberofday = (date1 - date2).days \n",
    "    if numberofday > 15:\n",
    "        print(j)"
   ]
  },
  {
   "cell_type": "markdown",
   "id": "a1746dfa",
   "metadata": {},
   "source": [
    "# Q 9. Write a function find_all_routes to display all possible routes from senders location to receivers location given in the dictionary for each shipment.¶"
   ]
  },
  {
   "cell_type": "code",
   "execution_count": 20,
   "id": "94478a7b",
   "metadata": {},
   "outputs": [
    {
     "name": "stdout",
     "output_type": "stream",
     "text": [
      "Shipment id :  101\n",
      "Sender_location :  1\n",
      "Receiver_location :  6\n",
      "All Possible path : \n",
      "[1, 6]\n",
      "******************************************************\n",
      "Shipment id :  102\n",
      "Sender_location :  2\n",
      "Receiver_location :  4\n",
      "All Possible path : \n",
      "[2, 3, 4]\n",
      "[2, 4]\n",
      "******************************************************\n",
      "Shipment id :  103\n",
      "Sender_location :  5\n",
      "Receiver_location :  1\n",
      "All Possible path : \n",
      "[5, 4, 2, 1]\n",
      "[5, 4, 3, 2, 1]\n",
      "******************************************************\n",
      "Shipment id :  104\n",
      "Sender_location :  1\n",
      "Receiver_location :  4\n",
      "All Possible path : \n",
      "[1, 2, 3, 4]\n",
      "[1, 2, 4]\n",
      "******************************************************\n",
      "Shipment id :  105\n",
      "Sender_location :  5\n",
      "Receiver_location :  3\n",
      "All Possible path : \n",
      "[5, 4, 2, 3]\n",
      "[5, 4, 3]\n",
      "******************************************************\n",
      "Shipment id :  106\n",
      "Sender_location :  3\n",
      "Receiver_location :  1\n",
      "All Possible path : \n",
      "[3, 2, 1]\n",
      "[3, 4, 2, 1]\n",
      "******************************************************\n"
     ]
    }
   ],
   "source": [
    "#Q9\n",
    "\n",
    "    \n",
    "matrix = [[0,1,0,0,0,1],[1,0,1,1,0,0],[0,1,0,1,0,0],[0,1,1,0,1,0],[0,0,0,1,0,0],[1,0,0,0,0,0]]\n",
    "path1 = []\n",
    "visted_node = [False for i in range(6)]    \n",
    "\n",
    "\n",
    "def find_all_path(matrix,visted_node2,i,j,path2):\n",
    "    visted_node2[i] = True\n",
    "    path2.append(i+1)\n",
    "    if i == j:\n",
    "        print(path2)\n",
    "    else :\n",
    "        for k in range(6):\n",
    "                if matrix[i][k] == 1  and (visted_node2[k] == False):\n",
    "                    find_all_path(matrix,visted_node2,k,j,path2)\n",
    "                    \n",
    "    path2.pop()\n",
    "    visted_node2[i] = False\n",
    "    \n",
    "matrix = [[0,1,0,0,0,1],[1,0,1,1,0,0],[0,1,0,1,0,0],[0,1,1,0,1,0],[0,0,0,1,0,0],[1,0,0,0,0,0]]\n",
    "path1 = []\n",
    "visted_node = [False for i in range(6)]    \n",
    "\n",
    "\n",
    "def show_all_path(shipment_details):\n",
    "    for i in shipment_details:\n",
    "        print('Shipment id : ',i)\n",
    "        for k in shipment_details[i]['Sender_location']:\n",
    "                if k.isdigit():\n",
    "                    sender = int(k)\n",
    "                    print('Sender_location : ',sender)\n",
    "        for l in shipment_details[i]['Receiver_location']:\n",
    "                if l.isdigit():\n",
    "                    receiver = int(l)\n",
    "                    print('Receiver_location : ',receiver)\n",
    "        print(\"All Possible path : \")\n",
    "        find_all_path(matrix,visted_node,sender-1,receiver-1,path1) \n",
    "        print(\"******************************************************\")\n",
    "        \n",
    "\n",
    "\n",
    "show_all_path(shipment_details)                    \n"
   ]
  }
 ],
 "metadata": {
  "kernelspec": {
   "display_name": "Python 3 (ipykernel)",
   "language": "python",
   "name": "python3"
  },
  "language_info": {
   "codemirror_mode": {
    "name": "ipython",
    "version": 3
   },
   "file_extension": ".py",
   "mimetype": "text/x-python",
   "name": "python",
   "nbconvert_exporter": "python",
   "pygments_lexer": "ipython3",
   "version": "3.9.7"
  }
 },
 "nbformat": 4,
 "nbformat_minor": 5
}
